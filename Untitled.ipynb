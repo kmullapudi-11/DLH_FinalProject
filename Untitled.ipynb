{
 "cells": [
  {
   "cell_type": "code",
   "execution_count": 1,
   "id": "b7bf9db3",
   "metadata": {},
   "outputs": [],
   "source": [
    "import pandas as pd"
   ]
  },
  {
   "cell_type": "code",
   "execution_count": 2,
   "id": "8cf7f8d7",
   "metadata": {},
   "outputs": [],
   "source": [
    "df = pd.read_csv('tmp2/pre_processed_lines.csv')"
   ]
  },
  {
   "cell_type": "code",
   "execution_count": 3,
   "id": "d75cf0dd",
   "metadata": {},
   "outputs": [
    {
     "data": {
      "text/html": [
       "<div>\n",
       "<style scoped>\n",
       "    .dataframe tbody tr th:only-of-type {\n",
       "        vertical-align: middle;\n",
       "    }\n",
       "\n",
       "    .dataframe tbody tr th {\n",
       "        vertical-align: top;\n",
       "    }\n",
       "\n",
       "    .dataframe thead th {\n",
       "        text-align: right;\n",
       "    }\n",
       "</style>\n",
       "<table border=\"1\" class=\"dataframe\">\n",
       "  <thead>\n",
       "    <tr style=\"text-align: right;\">\n",
       "      <th></th>\n",
       "      <th>tgt</th>\n",
       "      <th>input</th>\n",
       "      <th>show_inp</th>\n",
       "    </tr>\n",
       "  </thead>\n",
       "  <tbody>\n",
       "    <tr>\n",
       "      <th>0</th>\n",
       "      <td>absent</td>\n",
       "      <td>Patient recorded as having No ENT_1_START Know...</td>\n",
       "      <td>Patient recorded as having No ENT_1_START Know...</td>\n",
       "    </tr>\n",
       "    <tr>\n",
       "      <th>1</th>\n",
       "      <td>present</td>\n",
       "      <td>ENT_1_START Shortness of Breath ENT_1_END</td>\n",
       "      <td>ENT_1_START Shortness of Breath ENT_1_END</td>\n",
       "    </tr>\n",
       "    <tr>\n",
       "      <th>2</th>\n",
       "      <td>present</td>\n",
       "      <td>67 y/o male with worsening shortness of breath...</td>\n",
       "      <td>67 y/o male with worsening shortness of breath...</td>\n",
       "    </tr>\n",
       "    <tr>\n",
       "      <th>3</th>\n",
       "      <td>present</td>\n",
       "      <td>67 y/o male with ENT_1_START worsening shortne...</td>\n",
       "      <td>67 y/o male with ENT_1_START worsening shortne...</td>\n",
       "    </tr>\n",
       "    <tr>\n",
       "      <th>4</th>\n",
       "      <td>present</td>\n",
       "      <td>Cath revealed ENT_1_START severe 3 vessel dise...</td>\n",
       "      <td>Cath revealed ENT_1_START severe 3 vessel dise...</td>\n",
       "    </tr>\n",
       "  </tbody>\n",
       "</table>\n",
       "</div>"
      ],
      "text/plain": [
       "       tgt                                              input  \\\n",
       "0   absent  Patient recorded as having No ENT_1_START Know...   \n",
       "1  present          ENT_1_START Shortness of Breath ENT_1_END   \n",
       "2  present  67 y/o male with worsening shortness of breath...   \n",
       "3  present  67 y/o male with ENT_1_START worsening shortne...   \n",
       "4  present  Cath revealed ENT_1_START severe 3 vessel dise...   \n",
       "\n",
       "                                            show_inp  \n",
       "0  Patient recorded as having No ENT_1_START Know...  \n",
       "1          ENT_1_START Shortness of Breath ENT_1_END  \n",
       "2  67 y/o male with worsening shortness of breath...  \n",
       "3  67 y/o male with ENT_1_START worsening shortne...  \n",
       "4  Cath revealed ENT_1_START severe 3 vessel dise...  "
      ]
     },
     "execution_count": 3,
     "metadata": {},
     "output_type": "execute_result"
    }
   ],
   "source": [
    "df.head()"
   ]
  },
  {
   "cell_type": "code",
   "execution_count": 5,
   "id": "4b9e83d9",
   "metadata": {},
   "outputs": [
    {
     "data": {
      "text/plain": [
       "array(['absent', 'present', 'associated_with_someone_else',\n",
       "       'hypothetical', 'possible', 'conditional'], dtype=object)"
      ]
     },
     "execution_count": 5,
     "metadata": {},
     "output_type": "execute_result"
    }
   ],
   "source": [
    "df.tgt.unique()"
   ]
  },
  {
   "cell_type": "code",
   "execution_count": null,
   "id": "87162eec",
   "metadata": {},
   "outputs": [],
   "source": []
  }
 ],
 "metadata": {
  "kernelspec": {
   "display_name": "Python 3",
   "language": "python",
   "name": "python3"
  },
  "language_info": {
   "codemirror_mode": {
    "name": "ipython",
    "version": 3
   },
   "file_extension": ".py",
   "mimetype": "text/x-python",
   "name": "python",
   "nbconvert_exporter": "python",
   "pygments_lexer": "ipython3",
   "version": "3.6.5"
  }
 },
 "nbformat": 4,
 "nbformat_minor": 5
}
